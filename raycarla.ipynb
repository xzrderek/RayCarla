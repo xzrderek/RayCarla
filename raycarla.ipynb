{
 "cells": [
  {
   "cell_type": "markdown",
   "metadata": {},
   "source": []
  },
  {
   "cell_type": "markdown",
   "metadata": {},
   "source": [
    "# Environment Setup\n",
    "First enter into virtualenv. Do below in terminal:"
   ]
  },
  {
   "cell_type": "code",
   "execution_count": null,
   "metadata": {},
   "outputs": [],
   "source": [
    "# virtualenv venv\n",
    "# source venv/bin/activate\n",
    "# pip install -r requirements.txt\n",
    "# python -m easy_install carla-0.9.6-py3.5-linux-x86_64.egg\n",
    "\n",
    "# Select venv/bin/python in vscode\n",
    "\n",
    "# Change ipython kernel to venv/bin/python when prompted"
   ]
  },
  {
   "cell_type": "markdown",
   "metadata": {},
   "source": [
    "Then setup PYTHONPATH as below:"
   ]
  },
  {
   "cell_type": "code",
   "execution_count": null,
   "metadata": {},
   "outputs": [],
   "source": [
    "import os\n",
    "import sys\n",
    "sys.path.insert(0, os.path.abspath('.'))\n",
    "import oatomobile"
   ]
  },
  {
   "cell_type": "markdown",
   "metadata": {},
   "source": [
    "# Dataset\n",
    "## Option 1: Download Datset from OATML"
   ]
  },
  {
   "cell_type": "code",
   "execution_count": null,
   "metadata": {},
   "outputs": [],
   "source": [
    "from oatomobile.datasets import CARLADataset\n",
    "output_dir = \"data-oatml\"\n",
    "dataset = CARLADataset(\"raw\")\n",
    "dataset.download_and_prepare(output_dir)"
   ]
  },
  {
   "cell_type": "code",
   "execution_count": null,
   "metadata": {},
   "outputs": [],
   "source": [
    "from oatomobile.datasets import CARLADataset\n",
    "output_dir = \"data-oatml\"\n",
    "dataset = CARLADataset(\"examples\")\n",
    "dataset.download_and_prepare(output_dir)"
   ]
  },
  {
   "cell_type": "code",
   "execution_count": null,
   "metadata": {},
   "outputs": [],
   "source": [
    "from oatomobile.datasets import CARLADataset\n",
    "output_dir = \"data-oatml\"\n",
    "dataset = CARLADataset(\"processed\")\n",
    "dataset.download_and_prepare(output_dir)"
   ]
  },
  {
   "cell_type": "markdown",
   "metadata": {},
   "source": [
    "## Option 2: Collect from Carla\n",
    "To confirm."
   ]
  },
  {
   "cell_type": "code",
   "execution_count": 2,
   "metadata": {},
   "outputs": [
    {
     "ename": "ImportError",
     "evalue": "Missing CARLA installation, make sure the environment variable CARLA_ROOT is provided and that the PythonAPI is `easy_install`ed",
     "output_type": "error",
     "traceback": [
      "\u001b[0;31m---------------------------------------------------------------------------\u001b[0m",
      "\u001b[0;31mImportError\u001b[0m                               Traceback (most recent call last)",
      "\u001b[0;32m~/code/RayCarla/oatomobile/baselines/rulebased/autopilot/agent.py\u001b[0m in \u001b[0;36m<module>\u001b[0;34m\u001b[0m\n\u001b[1;32m     35\u001b[0m       \u001b[0mcompute_magnitude_angle\u001b[0m  \u001b[0;31m# pylint: disable=import-error\u001b[0m\u001b[0;34m\u001b[0m\u001b[0;34m\u001b[0m\u001b[0m\n\u001b[0;32m---> 36\u001b[0;31m   \u001b[0;32mfrom\u001b[0m \u001b[0magents\u001b[0m\u001b[0;34m.\u001b[0m\u001b[0mtools\u001b[0m\u001b[0;34m.\u001b[0m\u001b[0mmisc\u001b[0m \u001b[0;32mimport\u001b[0m\u001b[0;31m \u001b[0m\u001b[0;31m\\\u001b[0m\u001b[0;34m\u001b[0m\u001b[0;34m\u001b[0m\u001b[0m\n\u001b[0m\u001b[1;32m     37\u001b[0m       \u001b[0mis_within_distance_ahead\u001b[0m  \u001b[0;31m# pylint: disable=import-error\u001b[0m\u001b[0;34m\u001b[0m\u001b[0;34m\u001b[0m\u001b[0m\n",
      "\u001b[0;31mImportError\u001b[0m: cannot import name 'is_within_distance_ahead' from 'agents.tools.misc' (/home/weix/CARLA/PythonAPI/carla/agents/tools/misc.py)",
      "\nDuring handling of the above exception, another exception occurred:\n",
      "\u001b[0;31mImportError\u001b[0m                               Traceback (most recent call last)",
      "\u001b[0;32m/tmp/ipykernel_16333/1267901538.py\u001b[0m in \u001b[0;36m<module>\u001b[0;34m\u001b[0m\n\u001b[1;32m     10\u001b[0m \u001b[0mdataset\u001b[0m \u001b[0;34m=\u001b[0m \u001b[0mCARLADataset\u001b[0m\u001b[0;34m(\u001b[0m\u001b[0;34m\"raw\"\u001b[0m\u001b[0;34m)\u001b[0m\u001b[0;34m\u001b[0m\u001b[0;34m\u001b[0m\u001b[0m\n\u001b[1;32m     11\u001b[0m dataset.collect(town=town, output_dir=raw_dir, num_vehicles=vehicles, \n\u001b[0;32m---> 12\u001b[0;31m     num_pedestrians=pedestrians, render=render)\n\u001b[0m\u001b[1;32m     13\u001b[0m \u001b[0mdataset\u001b[0m\u001b[0;34m.\u001b[0m\u001b[0mprocess\u001b[0m\u001b[0;34m(\u001b[0m\u001b[0mdataset_dir\u001b[0m\u001b[0;34m=\u001b[0m\u001b[0mraw_dir\u001b[0m\u001b[0;34m,\u001b[0m \u001b[0moutput_dir\u001b[0m\u001b[0;34m=\u001b[0m\u001b[0mprocessed_dir\u001b[0m\u001b[0;34m)\u001b[0m\u001b[0;34m\u001b[0m\u001b[0;34m\u001b[0m\u001b[0m\n\u001b[1;32m     14\u001b[0m \u001b[0;31m# Not sure what examples are yet\u001b[0m\u001b[0;34m\u001b[0m\u001b[0;34m\u001b[0m\u001b[0;34m\u001b[0m\u001b[0m\n",
      "\u001b[0;32m~/code/RayCarla/oatomobile/datasets/carla.py\u001b[0m in \u001b[0;36mcollect\u001b[0;34m(town, output_dir, num_vehicles, num_pedestrians, num_steps, spawn_point, destination, sensors, render)\u001b[0m\n\u001b[1;32m    202\u001b[0m       \u001b[0mrender\u001b[0m\u001b[0;34m:\u001b[0m \u001b[0mIf\u001b[0m \u001b[0;32mTrue\u001b[0m \u001b[0mit\u001b[0m \u001b[0mspawn\u001b[0m \u001b[0mthe\u001b[0m\u001b[0;31m \u001b[0m\u001b[0;31m`\u001b[0m\u001b[0mPyGame\u001b[0m\u001b[0;31m`\u001b[0m \u001b[0mdisplay\u001b[0m\u001b[0;34m.\u001b[0m\u001b[0;34m\u001b[0m\u001b[0;34m\u001b[0m\u001b[0m\n\u001b[1;32m    203\u001b[0m     \"\"\"\n\u001b[0;32m--> 204\u001b[0;31m     \u001b[0;32mfrom\u001b[0m \u001b[0moatomobile\u001b[0m\u001b[0;34m.\u001b[0m\u001b[0mbaselines\u001b[0m\u001b[0;34m.\u001b[0m\u001b[0mrulebased\u001b[0m\u001b[0;34m.\u001b[0m\u001b[0mautopilot\u001b[0m\u001b[0;34m.\u001b[0m\u001b[0magent\u001b[0m \u001b[0;32mimport\u001b[0m \u001b[0mAutopilotAgent\u001b[0m\u001b[0;34m\u001b[0m\u001b[0;34m\u001b[0m\u001b[0m\n\u001b[0m\u001b[1;32m    205\u001b[0m     \u001b[0;32mfrom\u001b[0m \u001b[0moatomobile\u001b[0m\u001b[0;34m.\u001b[0m\u001b[0mcore\u001b[0m\u001b[0;34m.\u001b[0m\u001b[0mloop\u001b[0m \u001b[0;32mimport\u001b[0m \u001b[0mEnvironmentLoop\u001b[0m\u001b[0;34m\u001b[0m\u001b[0;34m\u001b[0m\u001b[0m\n\u001b[1;32m    206\u001b[0m     \u001b[0;32mfrom\u001b[0m \u001b[0moatomobile\u001b[0m\u001b[0;34m.\u001b[0m\u001b[0mcore\u001b[0m\u001b[0;34m.\u001b[0m\u001b[0mrl\u001b[0m \u001b[0;32mimport\u001b[0m \u001b[0mFiniteHorizonWrapper\u001b[0m\u001b[0;34m\u001b[0m\u001b[0;34m\u001b[0m\u001b[0m\n",
      "\u001b[0;32m~/code/RayCarla/oatomobile/baselines/rulebased/autopilot/agent.py\u001b[0m in \u001b[0;36m<module>\u001b[0;34m\u001b[0m\n\u001b[1;32m     37\u001b[0m       \u001b[0mis_within_distance_ahead\u001b[0m  \u001b[0;31m# pylint: disable=import-error\u001b[0m\u001b[0;34m\u001b[0m\u001b[0;34m\u001b[0m\u001b[0m\n\u001b[1;32m     38\u001b[0m \u001b[0;32mexcept\u001b[0m \u001b[0mImportError\u001b[0m\u001b[0;34m:\u001b[0m\u001b[0;34m\u001b[0m\u001b[0;34m\u001b[0m\u001b[0m\n\u001b[0;32m---> 39\u001b[0;31m   raise ImportError(\"Missing CARLA installation, \"\n\u001b[0m\u001b[1;32m     40\u001b[0m                     \u001b[0;34m\"make sure the environment variable CARLA_ROOT is provided \"\u001b[0m\u001b[0;34m\u001b[0m\u001b[0;34m\u001b[0m\u001b[0m\n\u001b[1;32m     41\u001b[0m                     \"and that the PythonAPI is `easy_install`ed\")\n",
      "\u001b[0;31mImportError\u001b[0m: Missing CARLA installation, make sure the environment variable CARLA_ROOT is provided and that the PythonAPI is `easy_install`ed"
     ]
    }
   ],
   "source": [
    "from oatomobile.datasets import CARLADataset\n",
    "town = \"Town01\" # Options: Town01, Town02, Town03, Town04, Town05\n",
    "town2 = \"Town02\" # for validation examples?\n",
    "raw_dir = \"data/raw\" \n",
    "processed_dir = \"data/processed\" \n",
    "examples_dir = \"data/examples\" \n",
    "vehicles = 10\n",
    "pedestrians = 10\n",
    "render = True\n",
    "dataset = CARLADataset(\"raw\")\n",
    "dataset.collect(town=town, output_dir=raw_dir, num_vehicles=vehicles, \n",
    "    num_pedestrians=pedestrians, render=render)\n",
    "dataset.process(dataset_dir=raw_dir, output_dir=processed_dir)\n",
    "# Not sure what examples are yet\n",
    "dataset.collect(town=town2, output_dir=examples_dir, num_vehicles=vehicles, \n",
    "    num_pedestrians=pedestrians, render=render, num_steps=50)"
   ]
  },
  {
   "cell_type": "markdown",
   "metadata": {},
   "source": [
    "# Training\n",
    "\n",
    "The options are dim and cil. \n",
    "\n",
    "## Train the dim Imitative Model"
   ]
  },
  {
   "cell_type": "code",
   "execution_count": null,
   "metadata": {},
   "outputs": [],
   "source": [
    "!PYTHONPATH=\".\" python oatomobile/baselines/torch/dim/train.py \\\n",
    "    --dataset_dir=data-oatml/processed \\\n",
    "    --output_dir=data-oatml/model-dim \\\n",
    "    --num_epochs=50"
   ]
  },
  {
   "cell_type": "markdown",
   "metadata": {},
   "source": [
    "## Train the cil Behavioural Model"
   ]
  },
  {
   "cell_type": "code",
   "execution_count": null,
   "metadata": {},
   "outputs": [],
   "source": [
    "!PYTHONPATH=\".\" python oatomobile/baselines/torch/cil/train.py \\\n",
    "    --dataset_dir=data/dataset \\\n",
    "    --output_dir=data/model/cil \\\n",
    "    --num_epochs=50"
   ]
  },
  {
   "cell_type": "markdown",
   "metadata": {},
   "source": [
    "# Inference\n",
    "\n",
    "Let's drive (inferernce)!\n",
    "\n",
    "## Inference from dim imitative model"
   ]
  },
  {
   "cell_type": "code",
   "execution_count": null,
   "metadata": {},
   "outputs": [],
   "source": [
    "# Imitation-learners.\n",
    "import torch\n",
    "import oatomobile.baselines.torch\n",
    "import oatomobile\n",
    "from oatomobile.envs import CARLAEnv\n",
    "\n",
    "ckpt = \"data-oatml/model/dim/ckpts/model-640.pt\"\n",
    "town = \"Town02\"\n",
    "\n",
    "model = oatomobile.baselines.torch.ImitativeModel()\n",
    "model.load_state_dict(torch.load(ckpt))\n",
    "\n",
    "# Initializes a CARLA environment.\n",
    "environment = CARLAEnv(town=town)\n",
    "# Makes an initial observation.\n",
    "observation = environment.reset()\n",
    "done = False\n",
    "\n",
    "agent = oatomobile.baselines.torch.DIMAgent(\n",
    "  environment=environment,\n",
    "  model=model,\n",
    "  )\n",
    "\n",
    "while not done:\n",
    "  action = agent.act(observation)\n",
    "  observation, reward, done, info = environment.step(action)\n",
    "  # Renders interactive display.\n",
    "  environment.render(mode=\"human\")\n",
    "\n",
    "# # Book-keeping: closes\n",
    "environment.close()"
   ]
  },
  {
   "cell_type": "markdown",
   "metadata": {},
   "source": [
    "## Inference from cil bahivior model"
   ]
  },
  {
   "cell_type": "code",
   "execution_count": null,
   "metadata": {},
   "outputs": [],
   "source": [
    "# Imitation-learners.\n",
    "import torch\n",
    "import oatomobile.baselines.torch\n",
    "import oatomobile\n",
    "from oatomobile.envs import CARLAEnv\n",
    "\n",
    "town = \"Town02\"\n",
    "ckpt = \"data-oatml/model/dim/ckpts/model-600.pt\" # Paths to the model checkpoints.\n",
    "\n",
    "model = oatomobile.baselines.torch.ImitativeModel()\n",
    "model.load_state_dict(torch.load(ckpt))\n",
    "\n",
    "# Initializes a CARLA environment.\n",
    "environment = CARLAEnv(town=town)\n",
    "# Makes an initial observation.\n",
    "observation = environment.reset()\n",
    "done = False\n",
    "\n",
    "agent = oatomobile.baselines.torch.CILAgent(\n",
    "  environment=environment,\n",
    "  model=model\n",
    "  )\n",
    "\n",
    "while not done:\n",
    "  action = agent.act(observation)\n",
    "  observation, reward, done, info = environment.step(action)\n",
    "  # Renders interactive display.\n",
    "  environment.render(mode=\"human\")\n",
    "\n",
    "# # Book-keeping: closes\n",
    "environment.close()"
   ]
  },
  {
   "cell_type": "markdown",
   "metadata": {},
   "source": [
    "## Inference from rip ensemble model\n",
    "\n",
    "Can we handle out of distribution?"
   ]
  },
  {
   "cell_type": "code",
   "execution_count": null,
   "metadata": {},
   "outputs": [],
   "source": [
    "# Imitation-learners.\n",
    "import torch\n",
    "import oatomobile.baselines.torch\n",
    "import oatomobile\n",
    "from oatomobile.envs import CARLAEnv\n",
    "\n",
    "town = \"Town02\"\n",
    "ckpts = [ \\\n",
    "  \"data-oatml/model/dim/ckpts/model-100.pt\",\n",
    "  \"data-oatml/model/dim/ckpts/model-200.pt\",\n",
    "  \"data-oatml/model/dim/ckpts/model-300.pt\",\n",
    "  \"data-oatml/model/dim/ckpts/model-400.pt\", \n",
    "  ] # Paths to the model checkpoints.\n",
    "models = [oatomobile.baselines.torch.ImitativeModel() for _ in range(4)]\n",
    "\n",
    "for model, ckpt in zip(models, ckpts):\n",
    "  model.load_state_dict(torch.load(ckpt))\n",
    "\n",
    "# Initializes a CARLA environment.\n",
    "environment = CARLAEnv(town=town)\n",
    "# Makes an initial observation.\n",
    "observation = environment.reset()\n",
    "done = False\n",
    "\n",
    "agent = oatomobile.baselines.torch.RIPAgent(\n",
    "  environment=environment,\n",
    "  models=models,\n",
    "  algorithm=\"WCM\",\n",
    "  )\n",
    "\n",
    "while not done:\n",
    "  action = agent.act(observation)\n",
    "  observation, reward, done, info = environment.step(action)\n",
    "  # Renders interactive display.\n",
    "  environment.render(mode=\"human\")\n",
    "\n",
    "# # Book-keeping: closes\n",
    "environment.close()"
   ]
  },
  {
   "cell_type": "markdown",
   "metadata": {},
   "source": [
    "# Analysis\n",
    "\n",
    "Open tensorboard"
   ]
  },
  {
   "cell_type": "code",
   "execution_count": null,
   "metadata": {},
   "outputs": [],
   "source": [
    "!tensorboard --logdir data/model/dim/logs/"
   ]
  }
 ],
 "metadata": {
  "interpreter": {
   "hash": "32629b6d8bb3447e3095207018032b9b40e345d6412b0cdb2d1e92c294cb2497"
  },
  "kernelspec": {
   "display_name": "Python 3.5.10 64-bit ('venv': venv)",
   "language": "python",
   "name": "python3"
  },
  "language_info": {
   "codemirror_mode": {
    "name": "ipython",
    "version": 3
   },
   "file_extension": ".py",
   "mimetype": "text/x-python",
   "name": "python",
   "nbconvert_exporter": "python",
   "pygments_lexer": "ipython3",
   "version": "3.7.12"
  },
  "orig_nbformat": 4
 },
 "nbformat": 4,
 "nbformat_minor": 2
}
