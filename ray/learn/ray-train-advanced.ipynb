{
 "cells": [
  {
   "cell_type": "markdown",
   "metadata": {},
   "source": [
    "References \n",
    "- [Ray Train User Guide](https://docs.ray.io/en/latest/train/user_guide.html)\n",
    "- [PyTorch Distributed] (https://pytorch.org/tutorials/beginner/dist_overview.html)\n",
    "\n",
    "Advanced usage:\n",
    "- How to use GPU in distributed way?\n",
    "- Log\n",
    "- Checkpointing\n",
    "- Fault Tolerance & Elastic Training\n",
    "- Distributed Data Ingest (Ray Datasets)\n",
    "- Hyperparameter tuning (Ray Tune)\n"
   ]
  },
  {
   "cell_type": "markdown",
   "metadata": {},
   "source": [
    "**GPU**"
   ]
  },
  {
   "cell_type": "code",
   "execution_count": null,
   "metadata": {},
   "outputs": [],
   "source": [
    "def train_func():\n",
    "    device = torch.device(f\"cuda:{train.local_rank()}\" if\n",
    "                  torch.cuda.is_available() else \"cpu\")\n",
    "    torch.cuda.set_device(device)\n",
    "\n",
    "    # Create model.\n",
    "    model = NeuralNetwork()\n",
    "    model = model.to(device)\n",
    "    model = DistributedDataParallel(\n",
    "        model,\n",
    "        device_ids=[train.local_rank()] if torch.cuda.is_available() else None)\n",
    "        \n",
    "torch_trainer = Trainer(backend=\"torch\", num_workers=2, use_gpu=True)"
   ]
  },
  {
   "cell_type": "markdown",
   "metadata": {},
   "source": [
    "**Checkpoint**"
   ]
  },
  {
   "cell_type": "code",
   "execution_count": null,
   "metadata": {},
   "outputs": [],
   "source": [
    "from ray import train\n",
    "from ray.train import Trainer\n",
    "def train_func(config):\n",
    "    model = 0 # This should be replaced with a real model.\n",
    "    for epoch in range(config[\"num_epochs\"]):\n",
    "        model += epoch\n",
    "        train.save_checkpoint(epoch=epoch, model=model)\n",
    "trainer = Trainer(backend=\"torch\", num_workers=4)\n",
    "trainer.start()\n",
    "trainer.run(train_func, config={\"num_epochs\": 5})\n",
    "trainer.shutdown()\n",
    "print(trainer.latest_checkpoint)"
   ]
  },
  {
   "cell_type": "markdown",
   "metadata": {},
   "source": [
    "**Log**"
   ]
  }
 ],
 "metadata": {
  "interpreter": {
   "hash": "65cdd5b4a0e89948390188008d4fb68a6c5e0d3e09a99d6a4df67b3be73eed40"
  },
  "kernelspec": {
   "display_name": "Python 3.7.12 64-bit ('3.7': venv)",
   "language": "python",
   "name": "python3"
  },
  "language_info": {
   "codemirror_mode": {
    "name": "ipython",
    "version": 3
   },
   "file_extension": ".py",
   "mimetype": "text/x-python",
   "name": "python",
   "nbconvert_exporter": "python",
   "pygments_lexer": "ipython3",
   "version": "3.7.12"
  },
  "orig_nbformat": 4
 },
 "nbformat": 4,
 "nbformat_minor": 2
}
