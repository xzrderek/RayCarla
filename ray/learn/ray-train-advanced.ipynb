{
 "cells": [
  {
   "cell_type": "markdown",
   "metadata": {},
   "source": [
    "References \n",
    "- [Ray Train User Guide](https://docs.ray.io/en/latest/train/user_guide.html)\n",
    "- [PyTorch Distributed] (https://pytorch.org/tutorials/beginner/dist_overview.html)\n",
    "\n",
    "Advanced usage:\n",
    "- How to use GPU in distributed way?\n",
    "- Log\n",
    "- Checkpointing\n",
    "- Fault Tolerance & Elastic Training\n",
    "- Distributed Data Ingest (Ray Datasets)\n",
    "- Hyperparameter tuning (Ray Tune)\n"
   ]
  }
 ],
 "metadata": {
  "interpreter": {
   "hash": "65cdd5b4a0e89948390188008d4fb68a6c5e0d3e09a99d6a4df67b3be73eed40"
  },
  "kernelspec": {
   "display_name": "Python 3.7.12 64-bit ('3.7': venv)",
   "language": "python",
   "name": "python3"
  },
  "language_info": {
   "codemirror_mode": {
    "name": "ipython",
    "version": 3
   },
   "file_extension": ".py",
   "mimetype": "text/x-python",
   "name": "python",
   "nbconvert_exporter": "python",
   "pygments_lexer": "ipython3",
   "version": "3.7.12"
  },
  "orig_nbformat": 4
 },
 "nbformat": 4,
 "nbformat_minor": 2
}
