{
 "cells": [
  {
   "cell_type": "markdown",
   "metadata": {},
   "source": []
  },
  {
   "cell_type": "markdown",
   "metadata": {},
   "source": [
    "# Environment Setup\n",
    "First enter into virtualenv. Do below in terminal:"
   ]
  },
  {
   "cell_type": "code",
   "execution_count": null,
   "metadata": {},
   "outputs": [],
   "source": [
    "# virtualenv venv\n",
    "# source venv/bin/activate\n",
    "# pip install -r requirements.txt\n",
    "# python -m easy_install carla-0.9.6-py3.5-linux-x86_64.egg\n",
    "\n",
    "# Select venv/bin/python in vscode\n",
    "\n",
    "# Change ipython kernel to venv/bin/python when prompted"
   ]
  },
  {
   "cell_type": "markdown",
   "metadata": {},
   "source": [
    "Then setup PYTHONPATH as below:"
   ]
  },
  {
   "cell_type": "code",
   "execution_count": null,
   "metadata": {},
   "outputs": [],
   "source": [
    "import os\n",
    "import sys\n",
    "sys.path.insert(0, os.path.abspath('..'))\n",
    "import oatomobile"
   ]
  },
  {
   "cell_type": "markdown",
   "metadata": {},
   "source": [
    "# Prepare Dataset\n",
    "\n",
    "## Prepare Training Dataset\n",
    "\n",
    "Get raw data from Carla simulator for trining. We are leveraging the rule based \"automatic control\" of Carla to navaigate the towns."
   ]
  },
  {
   "cell_type": "code",
   "execution_count": null,
   "metadata": {},
   "outputs": [],
   "source": [
    "# Get raw data for training from Carla's autopilot.\n",
    "!PYTHONPATH=\"..\" python ../oatomobile/baselines/rulebased/autopilot/run.py -output_dir=data/raw/train --town=Town04 --max_episode_steps=300"
   ]
  },
  {
   "cell_type": "markdown",
   "metadata": {},
   "source": [
    "Convert training raw data to taining dataset."
   ]
  },
  {
   "cell_type": "code",
   "execution_count": null,
   "metadata": {},
   "outputs": [],
   "source": [
    "!PYTHONPATH=\"..\" python ./postprocess.py --input_dir=data/raw/train --output_dir=data/dataset/train"
   ]
  },
  {
   "cell_type": "markdown",
   "metadata": {},
   "source": [
    "## Prepare Validation Dataset\n",
    "\n",
    "Get raw data for validation from Carla's autopilot."
   ]
  },
  {
   "cell_type": "code",
   "execution_count": null,
   "metadata": {},
   "outputs": [],
   "source": [
    "!PYTHONPATH=\"..\" python ../oatomobile/baselines/rulebased/autopilot/run.py -output_dir=data/raw/val --town=Town03 --max_episode_steps=300"
   ]
  },
  {
   "cell_type": "markdown",
   "metadata": {},
   "source": [
    "Convert validation raw data to validation dataset."
   ]
  },
  {
   "cell_type": "code",
   "execution_count": null,
   "metadata": {},
   "outputs": [],
   "source": [
    "!PYTHONPATH=\"..\" python ./postprocess.py --input_dir=data/raw/val --output_dir=data/dataset/val"
   ]
  },
  {
   "cell_type": "markdown",
   "metadata": {},
   "source": [
    "Train the model. The options are dim, cil, and rip. "
   ]
  },
  {
   "cell_type": "code",
   "execution_count": null,
   "metadata": {},
   "outputs": [],
   "source": [
    "!PYTHONPATH=\"..\" python ../oatomobile/baselines/torch/dim/train.py --dataset_dir=data/dataset --output_dir=data/model/dim --num_epochs=50"
   ]
  },
  {
   "cell_type": "markdown",
   "metadata": {},
   "source": [
    "Let's drive (inferernce)!"
   ]
  },
  {
   "cell_type": "code",
   "execution_count": null,
   "metadata": {},
   "outputs": [],
   "source": [
    "!PYTHONPATH=\"..\" python dim.py --model=data/model/dim/ckpts/model-640.pt --town=Town03"
   ]
  },
  {
   "cell_type": "markdown",
   "metadata": {},
   "source": [
    "Open tensorboard"
   ]
  },
  {
   "cell_type": "code",
   "execution_count": null,
   "metadata": {},
   "outputs": [],
   "source": [
    "!tensorboard --logdir data/model/dim/logs/"
   ]
  }
 ],
 "metadata": {
  "interpreter": {
   "hash": "32629b6d8bb3447e3095207018032b9b40e345d6412b0cdb2d1e92c294cb2497"
  },
  "kernelspec": {
   "display_name": "Python 3.5.10 64-bit ('venv': venv)",
   "language": "python",
   "name": "python3"
  },
  "language_info": {
   "codemirror_mode": {
    "name": "ipython",
    "version": 3
   },
   "file_extension": ".py",
   "mimetype": "text/x-python",
   "name": "python",
   "nbconvert_exporter": "python",
   "pygments_lexer": "ipython3",
   "version": "3.5.10"
  },
  "orig_nbformat": 4
 },
 "nbformat": 4,
 "nbformat_minor": 2
}
